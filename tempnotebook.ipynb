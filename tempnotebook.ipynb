{
 "cells": [
  {
   "cell_type": "code",
   "execution_count": 2,
   "metadata": {},
   "outputs": [],
   "source": [
    "import pandas as pd\n",
    "import json"
   ]
  },
  {
   "cell_type": "code",
   "execution_count": 6,
   "metadata": {},
   "outputs": [
    {
     "name": "stderr",
     "output_type": "stream",
     "text": [
      "C:\\Users\\my\\AppData\\Local\\Temp\\ipykernel_23620\\3448070952.py:1: FutureWarning: The argument 'date_parser' is deprecated and will be removed in a future version. Please use 'date_format' instead, or read your data in as 'object' dtype and then call 'to_datetime'.\n",
      "  df = pd.read_excel('data/Dialogues.xlsx', sheet_name='npcTalk',date_parser=False)\n"
     ]
    }
   ],
   "source": [
    "df = pd.read_excel('data/Dialogues.xlsx', sheet_name='npcTalk',date_parser=False)"
   ]
  },
  {
   "cell_type": "code",
   "execution_count": 7,
   "metadata": {},
   "outputs": [],
   "source": [
    "df = df.dropna(subset=['Content'])"
   ]
  },
  {
   "cell_type": "code",
   "execution_count": 22,
   "metadata": {},
   "outputs": [],
   "source": [
    "headers = ('talker', 'content', 'type')\n",
    "groups = {}\n",
    "\n",
    "for group in df.groupby('Group'):\n",
    "    talks = dict()\n",
    "    for row in group[1].iterrows():\n",
    "        current_row = row[1]\n",
    "        talks[current_row['Id_cut']] = dict(zip(headers,(current_row[\"NpcName\"], current_row['Content'],current_row['Type'])))\n",
    "\n",
    "        if str(current_row['NextTalkId']) != \"nan\":\n",
    "            talks[current_row['Id_cut']][\"next_talks\"] = current_row['NextTalkId'].replace(f\"{group[0]}_\",\"\")\n",
    "    groups[group[0]] = {\"context\":\"\",\"talks\":talks}"
   ]
  },
  {
   "cell_type": "code",
   "execution_count": 23,
   "metadata": {},
   "outputs": [],
   "source": [
    "json.dump(groups, open('data/dialogues.json', 'w', encoding='utf-8'), ensure_ascii=False, indent=2)"
   ]
  }
 ],
 "metadata": {
  "kernelspec": {
   "display_name": "Python 3",
   "language": "python",
   "name": "python3"
  },
  "language_info": {
   "codemirror_mode": {
    "name": "ipython",
    "version": 3
   },
   "file_extension": ".py",
   "mimetype": "text/x-python",
   "name": "python",
   "nbconvert_exporter": "python",
   "pygments_lexer": "ipython3",
   "version": "3.12.1"
  }
 },
 "nbformat": 4,
 "nbformat_minor": 2
}
